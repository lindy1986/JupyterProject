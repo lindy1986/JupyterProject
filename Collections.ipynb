{
 "cells": [
  {
   "cell_type": "code",
   "execution_count": 6,
   "metadata": {},
   "outputs": [
    {
     "data": {
      "text/plain": [
       "True"
      ]
     },
     "execution_count": 6,
     "metadata": {},
     "output_type": "execute_result"
    }
   ],
   "source": [
    "#collections是Python内建的一个集合模块，提供了许多有用的集合类。\n",
    "\n",
    "#namedtuple\n",
    "from collections import namedtuple\n",
    "# namedtuple('名称', [属性list]):\n",
    "Point=namedtuple('Point',['x','y'])  #定义一个点，坐标为x,y\n",
    "p=point('2','3')\n",
    "p.x\n",
    "p.y\n",
    "isinstance(p,Point)\n",
    "isinstance(p,tuple)\n"
   ]
  },
  {
   "cell_type": "code",
   "execution_count": 14,
   "metadata": {},
   "outputs": [
    {
     "data": {
      "text/plain": [
       "deque(['a', 'b', 'c'])"
      ]
     },
     "execution_count": 14,
     "metadata": {},
     "output_type": "execute_result"
    }
   ],
   "source": [
    "#deque\n",
    "# 使用list存储数据时，按索引访问元素很快，但是插入和删除元素就很慢了，因为list是线性存储，数据量大的时候，插入和删除效率很低。\n",
    "# deque是为了高效实现插入和删除操作的双向列表，适合用于队列和栈：\n",
    "\n",
    "from collections import deque\n",
    "q=deque(['a','b','c'])\n",
    "q.append('x')\n",
    "q.appendleft('y')\n",
    "q.pop()\n",
    "q.popleft()\n",
    "q\n",
    "\n",
    "#deque除了实现list的append()和pop()外，还支持appendleft()和popleft()，这样就可以非常高效地往头部添加或删除元素。"
   ]
  },
  {
   "cell_type": "code",
   "execution_count": 16,
   "metadata": {},
   "outputs": [
    {
     "data": {
      "text/plain": [
       "'N/A'"
      ]
     },
     "execution_count": 16,
     "metadata": {},
     "output_type": "execute_result"
    }
   ],
   "source": [
    "#defaultdict\n",
    "#使用dict时，如果引用的Key不存在，就会抛出KeyError。如果希望key不存在时，返回一个默认值，就可以用defaultdict：\n",
    "\n",
    "from collections import defaultdict\n",
    "dd=defaultdict(lambda:'N/A')  \n",
    "dd['key1']='ABC'\n",
    "dd['key1']\n",
    "dd['key2']  # key2不存在，返回默认值\n",
    "\n",
    "# 注意默认值是调用函数返回的，而函数在创建defaultdict对象时传入。\n",
    "# 除了在Key不存在时返回默认值，defaultdict的其他行为跟dict是完全一样的。\n"
   ]
  },
  {
   "cell_type": "code",
   "execution_count": 23,
   "metadata": {},
   "outputs": [
    {
     "data": {
      "text/plain": [
       "['c', 'b', 'a']"
      ]
     },
     "execution_count": 23,
     "metadata": {},
     "output_type": "execute_result"
    }
   ],
   "source": [
    "#OrderedDict\n",
    "\n",
    "# 使用dict时，Key是无序的。在对dict做迭代时，我们无法确定Key的顺序。\n",
    "# 如果要保持Key的顺序，可以用OrderedDict：\n",
    "from collections import OrderedDict\n",
    "d=dict([('a',1),('b',2),('c',3)])\n",
    "d\n",
    "od=OrderedDict([('a',1),('b',2),('c',3)])\n",
    "od\n",
    "\n",
    "# 注意，OrderedDict的Key会按照插入的顺序排列，不是Key本身排序：\n",
    "od=OrderedDict()\n",
    "od['c']=1\n",
    "od['b']=2\n",
    "od['a']=3\n",
    "list(od.keys())  # 按照插入的Key的顺序返回\n"
   ]
  },
  {
   "cell_type": "code",
   "execution_count": 24,
   "metadata": {},
   "outputs": [],
   "source": [
    "#OrderedDict可以实现一个FIFO（先进先出）的dict，当容量超出限制时，先删除最早添加的Key：\n",
    "from collections import OrderedDict\n",
    "\n",
    "class LastUpdateOrderedDict(OrderedDict):\n",
    "    \n",
    "    def __init__(self,capacity):\n",
    "        super(LastUpdateOrderedDict,self).__init__()\n",
    "        self.capacity=capacity\n",
    "        \n",
    "    def __setitem__(self, key, value):\n",
    "        containsKey = 1 if key in self else 0\n",
    "        if len(self) - containsKey >= self._capacity:\n",
    "            last = self.popitem(last=False)\n",
    "            print('remove:', last)\n",
    "        if containsKey:\n",
    "            del self[key]\n",
    "            print('set:', (key, value))\n",
    "        else:\n",
    "            print('add:', (key, value))\n",
    "        OrderedDict.__setitem__(self, key, value)"
   ]
  },
  {
   "cell_type": "code",
   "execution_count": 29,
   "metadata": {},
   "outputs": [
    {
     "data": {
      "text/plain": [
       "Counter({'p': 1,\n",
       "         'r': 2,\n",
       "         'o': 2,\n",
       "         'g': 2,\n",
       "         'a': 1,\n",
       "         'm': 3,\n",
       "         'i': 1,\n",
       "         'n': 1,\n",
       "         'w': 1,\n",
       "         'e': 2,\n",
       "         'l': 1,\n",
       "         'c': 1})"
      ]
     },
     "execution_count": 29,
     "metadata": {},
     "output_type": "execute_result"
    }
   ],
   "source": [
    "#Counter\n",
    "# Counter是一个简单的计数器，例如，统计字符出现的个数：\n",
    "\n",
    "from collections import Counter\n",
    "c=Counter()\n",
    "for ch in 'programming':\n",
    "   c[ch]=c[ch]+1\n",
    "c\n",
    "c.update('welcome')   # 也可以一次性update\n",
    "c\n",
    "\n",
    "# Counter实际上也是dict的一个子类，上面的结果可以看出每个字符出现的次数。\n"
   ]
  },
  {
   "cell_type": "code",
   "execution_count": null,
   "metadata": {},
   "outputs": [],
   "source": []
  }
 ],
 "metadata": {
  "kernelspec": {
   "display_name": "Python 3",
   "language": "python",
   "name": "python3"
  },
  "language_info": {
   "codemirror_mode": {
    "name": "ipython",
    "version": 3
   },
   "file_extension": ".py",
   "mimetype": "text/x-python",
   "name": "python",
   "nbconvert_exporter": "python",
   "pygments_lexer": "ipython3",
   "version": "3.8.1"
  }
 },
 "nbformat": 4,
 "nbformat_minor": 4
}
